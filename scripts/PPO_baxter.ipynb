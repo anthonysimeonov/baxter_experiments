{
 "cells": [
  {
   "cell_type": "markdown",
   "metadata": {},
   "source": [
    "## Basic imports"
   ]
  },
  {
   "cell_type": "code",
   "execution_count": 1,
   "metadata": {},
   "outputs": [],
   "source": [
    "#%matplotlib.pyplot inline\n",
    "\n",
    "import pickle\n",
    "import rospy\n",
    "import baxter_interface\n",
    "import os.path as path\n",
    "import copy\n",
    "from tqdm import tqdm_notebook as tqdmn\n",
    "import matplotlib.pyplot as plt\n",
    "import itertools\n",
    "import numpy as np\n",
    "\n"
   ]
  },
  {
   "cell_type": "markdown",
   "metadata": {},
   "source": [
    "### Initialize trajectory server"
   ]
  },
  {
   "cell_type": "code",
   "execution_count": 2,
   "metadata": {},
   "outputs": [],
   "source": [
    "# initialize ros node\n",
    "rospy.init_node('trajectory_player')\n",
    "limb = baxter_interface.Limb('right')"
   ]
  },
  {
   "cell_type": "markdown",
   "metadata": {},
   "source": [
    "### Print joint information"
   ]
  },
  {
   "cell_type": "code",
   "execution_count": 3,
   "metadata": {},
   "outputs": [
    {
     "name": "stdout",
     "output_type": "stream",
     "text": [
      "{'right_s0': -0.2744842539179597, 'right_s1': 1.0470027045962942, 'right_w0': -0.5528420198175317, 'right_w1': -0.07753854894385359, 'right_w2': -0.01024264306187117, 'right_e0': 0.007258533610022155, 'right_e1': 0.5036673439242714}\n",
      "{'right_s0': -5.150252590296569e-06, 'right_s1': 4.2477373544554246e-08, 'right_w0': -0.003930651858118608, 'right_w1': 1.6500116544143132e-05, 'right_w2': -0.0008170283254832181, 'right_e0': 8.690006990924557e-05, 'right_e1': -3.110044784728971e-05}\n",
      "{'right_s0': 0.0, 'right_s1': 0.0, 'right_w0': 0.0, 'right_w1': 0.0, 'right_w2': 0.0, 'right_e0': 0.0, 'right_e1': 0.0}\n",
      "0.00160217285156\n"
     ]
    }
   ],
   "source": [
    "# print(dir(limb))\n",
    "import time\n",
    "\n",
    "start = time.time()\n",
    "print(limb.joint_angles())\n",
    "print(limb.joint_velocities())\n",
    "print(limb.joint_efforts())\n",
    "end = time.time()\n",
    "print(end-start)"
   ]
  },
  {
   "cell_type": "markdown",
   "metadata": {},
   "source": [
    "### Run path and record a different joint\n",
    "- plot this data"
   ]
  },
  {
   "cell_type": "markdown",
   "metadata": {},
   "source": [
    "# Setup for RL and PPO\n",
    "\n",
    "### Imports\n",
    "- from ppo_gym.py"
   ]
  },
  {
   "cell_type": "code",
   "execution_count": 4,
   "metadata": {},
   "outputs": [
    {
     "name": "stdout",
     "output_type": "stream",
     "text": [
      "/home/arclabdl2/ros_ws/src/baxter_experiments/scripts/PPO\n"
     ]
    }
   ],
   "source": [
    "import argparse\n",
    "import gym\n",
    "import os\n",
    "import sys\n",
    "import pickle\n",
    "import time\n",
    "import math\n",
    "\n",
    "print(os.getcwd() + '/PPO')\n",
    "sys.path.append(os.path.abspath(os.getcwd() + '/PPO'))"
   ]
  },
  {
   "cell_type": "code",
   "execution_count": 5,
   "metadata": {},
   "outputs": [],
   "source": [
    "from utils import *\n",
    "from models.mlp_policy import Policy\n",
    "from models.mlp_critic import Value\n",
    "from torch.autograd import Variable\n",
    "\n",
    "from core.ppo import ppo_step\n",
    "from core.common import estimate_advantages\n",
    "from core.agent import Agent"
   ]
  },
  {
   "cell_type": "markdown",
   "metadata": {},
   "source": [
    "### Defaults"
   ]
  },
  {
   "cell_type": "code",
   "execution_count": 135,
   "metadata": {},
   "outputs": [],
   "source": [
    "#pytorch setup\n",
    "use_gpu = 0\n",
    "is_disc_action = False\n",
    "Tensor = DoubleTensor\n",
    "ActionTensor = LongTensor if is_disc_action else DoubleTensor\n",
    "torch.set_default_tensor_type('torch.DoubleTensor')\n",
    "\n",
    "#parameters\n",
    "gamma = 0.99\n",
    "tau = 0.95\n",
    "l2_reg = 1e-3\n",
    "learning_rate = 3e-4\n",
    "clip_epsilon = 0.2\n",
    "num_threads = 4\n",
    "mini_batch_size = 2048\n",
    "log_std = 0\n",
    "max_iter_num = 500\n",
    "\n",
    "#environment variables\n",
    "state_dim = 8#torque, velocity, motor position, joint position, appended: goal\n",
    "action_dim = 1 #next motor position\n"
   ]
  },
  {
   "cell_type": "markdown",
   "metadata": {},
   "source": [
    "### Robot environment setup\n",
    "\n",
    "need:\n",
    "- reward function: e^-(setpoint_position[t] @ s1 - true_position[t] @ s1)^2\n",
    "- input: current state(true_position, velocity, torque)[t]\n",
    "    ||goal[t+1] @ {s1, e1}\n",
    "- output: delta_setpoint[t+1] @ s1"
   ]
  },
  {
   "cell_type": "code",
   "execution_count": 142,
   "metadata": {},
   "outputs": [],
   "source": [
    "def reward(goal, measured):\n",
    "    return np.exp(-(goal - measured)**2)\n",
    "\n",
    "def generateTrajectory(numSteps = 1000):\n",
    "    positions = []\n",
    "    true_positions = []\n",
    "    for i in range(numSteps):\n",
    "        positions.append(np.clip(np.cos(float(i)*(2*np.pi)/1000)*0.5+0.55, -0, 3))\n",
    "    return positions\n",
    "\n",
    "def getState(limb):\n",
    "    measured_pos = np.array([limb.joint_angles()['right_s1'], \n",
    "                             limb.joint_angles()['right_e1']])\n",
    "    measured_vel = np.array([limb.joint_velocities()['right_s1'], \n",
    "                             limb.joint_velocities()['right_e1']])\n",
    "    measured_torque = np.array([limb.joint_efforts()['right_s1'], \n",
    "                             limb.joint_efforts()['right_e1']])\n",
    "    return measured_pos, measured_vel, measured_torque\n",
    "\n",
    "#make sine wave\n",
    "positions = generateTrajectory()\n",
    "setpoint_positions = []\n",
    "\n",
    "#get initial joint positions\n",
    "pos = limb.joint_angles()\n",
    "pos['right_s0'] = 0 \n",
    "pos['right_s1'] = np.pi/10    \n",
    "pos['right_e0'] = 0\n"
   ]
  },
  {
   "cell_type": "markdown",
   "metadata": {},
   "source": [
    "### Pytorch setup"
   ]
  },
  {
   "cell_type": "code",
   "execution_count": 143,
   "metadata": {},
   "outputs": [],
   "source": [
    "running_state = ZFilter((state_dim,), clip=5)\n",
    "\n",
    "policy_net = Policy(state_dim, action_dim, log_std=log_std, hidden_size=(3,3))\n",
    "value_net = Value(state_dim)\n",
    "\n",
    "optimizer_policy = torch.optim.Adam(policy_net.parameters(), lr=learning_rate)\n",
    "optimizer_value = torch.optim.Adam(value_net.parameters(), lr=learning_rate)\n",
    "\n",
    "# optimization epoch number and batch size for PPO\n",
    "optim_epochs = 5\n",
    "optim_batch_size = 64\n",
    "\n",
    "from collections import namedtuple\n",
    "Transition = namedtuple('Transition', ('state', 'action', 'mask', 'next_state',\n",
    "                                       'reward'))\n",
    "\n",
    "def batchData(*args):\n",
    "    return Transition(*args)"
   ]
  },
  {
   "cell_type": "code",
   "execution_count": 144,
   "metadata": {},
   "outputs": [],
   "source": [
    "def update_params(batch, i_iter):\n",
    "    states = torch.from_numpy(np.stack(batch.state))\n",
    "    actions = torch.from_numpy(np.stack(batch.action))\n",
    "    rewards = torch.from_numpy(np.stack(batch.reward))\n",
    "    masks = torch.from_numpy(np.stack(batch.mask).astype(np.float64))\n",
    "    if use_gpu:\n",
    "        states, actions, rewards, masks = states.cuda(), actions.cuda(), rewards.cuda(), masks.cuda()\n",
    "    values = value_net(Variable(states, volatile=True)).data\n",
    "    fixed_log_probs = policy_net.get_log_prob(Variable(states, volatile=True), Variable(actions)).data\n",
    "\n",
    "    \"\"\"get advantage estimation from the trajectories\"\"\"\n",
    "    advantages, returns = estimate_advantages(rewards, masks, values, gamma, tau, use_gpu)\n",
    "\n",
    "    lr_mult = max(1.0 - float(i_iter) / max_iter_num, 0)\n",
    "\n",
    "    \"\"\"perform mini-batch PPO update\"\"\"\n",
    "    optim_iter_num = int(math.ceil(states.shape[0] / optim_batch_size))\n",
    "    for _ in range(optim_epochs):\n",
    "        perm = torch.randperm(states.shape[0])\n",
    "        # perm = np.arange(states.shape[0])\n",
    "        # np.random.shuffle(perm)\n",
    "        # perm = LongTensor(perm).cuda() if use_gpu else LongTensor(perm)\n",
    "\n",
    "        states, actions, returns, advantages, fixed_log_probs = \\\n",
    "            states[perm], actions[perm], returns[perm], advantages[perm], fixed_log_probs[perm]\n",
    "\n",
    "        for i in range(optim_iter_num):\n",
    "            ind = slice(i * optim_batch_size, min((i + 1) * optim_batch_size, states.shape[0]))\n",
    "            states_b, actions_b, advantages_b, returns_b, fixed_log_probs_b = \\\n",
    "                states[ind], actions[ind], advantages[ind], returns[ind], fixed_log_probs[ind]\n",
    "\n",
    "            ppo_step(policy_net, value_net, optimizer_policy, optimizer_value, 1, states_b, actions_b, returns_b,\n",
    "                     advantages_b, fixed_log_probs_b, lr_mult, learning_rate, clip_epsilon, l2_reg)"
   ]
  },
  {
   "cell_type": "code",
   "execution_count": null,
   "metadata": {},
   "outputs": [],
   "source": [
    "rewards_looped = []\n",
    "\n",
    "for itr in range(100):\n",
    "    #reset environment\n",
    "    limb.set_joint_positions(pos)\n",
    "    rospy.sleep(1)\n",
    "\n",
    "    #GET BATCH\n",
    "    obs_s = []\n",
    "    act_s = []\n",
    "    done_s = []\n",
    "    reward_s = []\n",
    "    obs_s_next = []\n",
    "    #\n",
    "    true_positions = []\n",
    "    setpoint_positions = []\n",
    "    goal_positions = []\n",
    "    goal = pos['right_s1'] #currently static\n",
    "    \n",
    "    measured_pos, measured_vel, measured_torque = getState(limb)\n",
    "    obs = np.hstack((measured_pos.copy(), measured_vel.copy(), measured_torque.copy(), goals.copy()))\n",
    "\n",
    "\n",
    "\n",
    "    for i, itered_pos in enumerate(positions):\n",
    "        #OBSERVATION\n",
    "        goals = np.array([itered_pos, goal])\n",
    "        \n",
    "        #ACTION\n",
    "        obs_th = Variable(torch.from_numpy(obs)).unsqueeze(0)\n",
    "        action = policy_net(obs_th)[0].data[0].numpy() #decrease this guy's magnitude?\n",
    "\n",
    "        pos['right_e1'] = itered_pos #directly controlled joint, not compensated\n",
    "        setpoint_position = goal + action\n",
    "        pos['right_s1'] = setpoint_position #compensated joint\n",
    "        limb.set_joint_positions(pos) #take action\n",
    "\n",
    "            \n",
    "        rospy.sleep(0.01)\n",
    "        \n",
    "        measured_pos, measured_vel, measured_torque = getState(limb)\n",
    "        obs_new = np.hstack((measured_pos.copy(), measured_vel.copy(), measured_torque.copy(), goals.copy()))\n",
    "        \n",
    "        setpoint_positions.append(setpoint_position)\n",
    "        true_positions.append(measured_pos[0])\n",
    "        goal_positions.append(goal)\n",
    "        obs_s.append(obs)\n",
    "        obs_s_next.append(obs_new)\n",
    "        act_s.append(action)\n",
    "        reward_s.append(reward(goal, measured_pos[0]))\n",
    "            \n",
    "        if i == len(positions) - 1:\n",
    "            done_s.append(1)\n",
    "        else:\n",
    "            done_s.append(0)\n",
    "\n",
    "        obs = obs_new\n",
    "\n",
    "\n",
    "\n",
    "\n",
    "\n",
    "    #update algorithm\n",
    "    mask = 1 - np.array(done_s)\n",
    "    batch = batchData(np.array(obs_s), np.array(act_s), mask, np.array(obs_s_next), np.array(reward_s))\n",
    "    update_params(batch, itr)\n",
    "    \n",
    "    rewards_looped.extend(reward_s)\n",
    "    "
   ]
  },
  {
   "cell_type": "code",
   "execution_count": null,
   "metadata": {},
   "outputs": [],
   "source": [
    "plt.figure()\n",
    "plt.plot(rewards_looped)\n",
    "plt.show()\n"
   ]
  },
  {
   "cell_type": "code",
   "execution_count": 151,
   "metadata": {},
   "outputs": [
    {
     "data": {
      "text/plain": [
       "9.6555670624167362"
      ]
     },
     "execution_count": 151,
     "metadata": {},
     "output_type": "execute_result"
    }
   ],
   "source": [
    "np.sqrt(-np.log(0.995))*180/np.pi\n",
    "np.sqrt(-np.log(0.972))*180/np.pi"
   ]
  },
  {
   "cell_type": "code",
   "execution_count": null,
   "metadata": {},
   "outputs": [],
   "source": [
    "plt.figure()\n",
    "plt.plot(true_positions)\n",
    "plt.plot(setpoint_positions)\n",
    "plt.plot(goal_positions)\n",
    "plt.plot(rewards)\n",
    "plt.legend(['true', 'setpoint', 'goals', 'rewards'])\n",
    "plt.show()\n"
   ]
  },
  {
   "cell_type": "markdown",
   "metadata": {},
   "source": [
    "### Training"
   ]
  },
  {
   "cell_type": "code",
   "execution_count": null,
   "metadata": {},
   "outputs": [],
   "source": [
    "class Agent:\n",
    "\n",
    "    def __init__(self, policy, mean_action=False, \n",
    "                 tensor_type=torch.DoubleTensor):\n",
    "        self.policy = policy\n",
    "        self.mean_action = mean_action\n",
    "        self.tensor = tensor_type\n",
    "\n",
    "    def collect_samples(self, min_batch_size):\n",
    "        t_start = time.time()\n",
    "        if use_gpu:\n",
    "            self.policy.cpu()\n",
    "        thread_batch_size = int(math.floor(min_batch_size / self.num_threads))\n",
    "        queue = multiprocessing.Queue()\n",
    "        workers = []\n",
    "\n",
    "        for i in range(self.num_threads-1):\n",
    "            worker_args = (i+1, queue, self.env_list[i + 1], self.policy, self.custom_reward, self.mean_action,\n",
    "                           self.tensor, False, self.running_state, False, thread_batch_size)\n",
    "            workers.append(multiprocessing.Process(target=collect_samples, args=worker_args))\n",
    "        for worker in workers:\n",
    "            worker.start()\n",
    "\n",
    "        memory, log = collect_samples(0, None, self.env_list[0], self.policy, self.custom_reward, self.mean_action,\n",
    "                                      self.tensor, self.render, self.running_state, True, thread_batch_size)\n",
    "\n",
    "        worker_logs = [None] * len(workers)\n",
    "        worker_memories = [None] * len(workers)\n",
    "        for _ in workers:\n",
    "            pid, worker_memory, worker_log = queue.get()\n",
    "            worker_memories[pid - 1] = worker_memory\n",
    "            worker_logs[pid - 1] = worker_log\n",
    "        for worker_memory in worker_memories:\n",
    "            memory.append(worker_memory)\n",
    "        batch = memory.sample()\n",
    "        if self.num_threads > 1:\n",
    "            log_list = [log] + worker_logs\n",
    "            log = merge_log(log_list)\n",
    "        if use_gpu:\n",
    "            self.policy.cuda()\n",
    "        t_end = time.time()\n",
    "        log['sample_time'] = t_end - t_start\n",
    "        log['action_mean'] = np.mean(np.vstack(batch.action), axis=0)\n",
    "        log['action_min'] = np.min(np.vstack(batch.action), axis=0)\n",
    "        log['action_max'] = np.max(np.vstack(batch.action), axis=0)\n",
    "        return batch, log\n"
   ]
  },
  {
   "cell_type": "code",
   "execution_count": null,
   "metadata": {},
   "outputs": [],
   "source": [
    "def collect_samples(pid, queue, env, policy, custom_reward, mean_action,\n",
    "                    tensor, render, running_state, update_rs, min_batch_size):\n",
    "    torch.randn(pid, )\n",
    "    log = dict()\n",
    "    memory = Memory()\n",
    "    num_steps = 0\n",
    "    total_reward = 0\n",
    "    min_reward = 1e6\n",
    "    max_reward = -1e6\n",
    "    total_c_reward = 0\n",
    "    min_c_reward = 1e6\n",
    "    max_c_reward = -1e6\n",
    "    num_episodes = 0\n",
    "\n",
    "    while num_steps < min_batch_size:\n",
    "        state = env.reset()\n",
    "        if running_state is not None:\n",
    "            state = running_state(state, update=update_rs)\n",
    "        reward_episode = 0\n",
    "\n",
    "        for t in range(10000):\n",
    "            state_var = Variable(tensor(state).unsqueeze(0), volatile=True)\n",
    "            if mean_action:\n",
    "                action = policy(state_var)[0].data[0].numpy()\n",
    "            else:\n",
    "                action = policy.select_action(state_var)[0].numpy()\n",
    "            action = int(action) if policy.is_disc_action else action.astype(np.float64)\n",
    "            next_state, reward, done, _ = env.step(action)\n",
    "            reward_episode += reward\n",
    "            if running_state is not None:\n",
    "                next_state = running_state(next_state, update=update_rs)\n",
    "\n",
    "            if custom_reward is not None:\n",
    "                reward = custom_reward(state, action)\n",
    "                total_c_reward += reward\n",
    "                min_c_reward = min(min_c_reward, reward)\n",
    "                max_c_reward = max(max_c_reward, reward)\n",
    "\n",
    "            mask = 0 if done else 1\n",
    "\n",
    "            memory.push(state, action, mask, next_state, reward)\n",
    "\n",
    "            if render:\n",
    "                env.render()\n",
    "            if done:\n",
    "                break\n",
    "\n",
    "            state = next_state\n",
    "\n",
    "        # log stats\n",
    "        num_steps += (t + 1)\n",
    "        num_episodes += 1\n",
    "        total_reward += reward_episode\n",
    "        min_reward = min(min_reward, reward_episode)\n",
    "        max_reward = max(max_reward, reward_episode)\n",
    "\n",
    "    log['num_steps'] = num_steps\n",
    "    log['num_episodes'] = num_episodes\n",
    "    log['total_reward'] = total_reward\n",
    "    log['avg_reward'] = total_reward / num_episodes\n",
    "    log['max_reward'] = max_reward\n",
    "    log['min_reward'] = min_reward\n",
    "    if custom_reward is not None:\n",
    "        log['total_c_reward'] = total_c_reward\n",
    "        log['avg_c_reward'] = total_c_reward / num_steps\n",
    "        log['max_c_reward'] = max_c_reward\n",
    "        log['min_c_reward'] = min_c_reward\n",
    "\n",
    "    if queue is not None:\n",
    "        queue.put([pid, memory, log])\n",
    "    else:\n",
    "        return memory, log"
   ]
  },
  {
   "cell_type": "code",
   "execution_count": null,
   "metadata": {},
   "outputs": [],
   "source": [
    "def main_loop():\n",
    "    for i_iter in range(args.max_iter_num):\n",
    "        \"\"\"generate multiple trajectories that reach the minimum batch_size\"\"\"\n",
    "        batch, log = agent.collect_samples(args.min_batch_size)\n",
    "        t0 = time.time()\n",
    "        update_params(batch, i_iter)\n",
    "        t1 = time.time()\n",
    "\n",
    "        if i_iter % args.log_interval == 0:\n",
    "            print('{}\\tT_sample {:.4f}\\tT_update {:.4f}\\tR_min {:.2f}\\tR_max {:.2f}\\tR_avg {:.2f}'.format(\n",
    "                i_iter, log['sample_time'], t1-t0, log['min_reward'], log['max_reward'], log['avg_reward']))\n",
    "\n",
    "        if args.save_model_interval > 0 and (i_iter+1) % args.save_model_interval == 0:\n",
    "            if use_gpu:\n",
    "                policy_net.cpu(), value_net.cpu()\n",
    "            pickle.dump((policy_net, value_net, running_state),\n",
    "                        open(os.path.join(assets_dir(), 'learned_models/{}_ppo.p'.format(args.env_name)), 'wb'))\n",
    "            if use_gpu:\n",
    "                policy_net.cuda(), value_net.cuda()\n",
    "\n",
    "        \"\"\"clean up gpu memory\"\"\"\n",
    "        if use_gpu:\n",
    "            torch.cuda.empty_cache()"
   ]
  }
 ],
 "metadata": {
  "kernelspec": {
   "display_name": "Python 2",
   "language": "python",
   "name": "python2"
  },
  "language_info": {
   "codemirror_mode": {
    "name": "ipython",
    "version": 2
   },
   "file_extension": ".py",
   "mimetype": "text/x-python",
   "name": "python",
   "nbconvert_exporter": "python",
   "pygments_lexer": "ipython2",
   "version": "2.7.12"
  }
 },
 "nbformat": 4,
 "nbformat_minor": 2
}
