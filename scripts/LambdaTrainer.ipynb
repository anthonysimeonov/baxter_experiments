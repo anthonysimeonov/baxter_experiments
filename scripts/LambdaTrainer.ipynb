{
 "cells": [
  {
   "cell_type": "code",
   "execution_count": null,
   "metadata": {},
   "outputs": [],
   "source": [
    "import pickle\n",
    "import rospy\n",
    "import baxter_interface\n",
    "import os.path as path\n",
    "import copy\n",
    "from tqdm import tqdm_notebook as tqdmn\n",
    "import matplotlib.pyplot as plt\n",
    "import itertools\n",
    "import numpy as np\n",
    "import time"
   ]
  },
  {
   "cell_type": "code",
   "execution_count": null,
   "metadata": {},
   "outputs": [],
   "source": [
    "# initialize ros node\n",
    "rospy.init_node('lambda_trainer')\n",
    "limb = baxter_interface.Limb('right')"
   ]
  },
  {
   "cell_type": "code",
   "execution_count": null,
   "metadata": {},
   "outputs": [],
   "source": [
    "# define relevant variables\n",
    "PLAYBACK_MODE = 'bend'\n",
    "REACH_TIME = 0.05\n",
    "file_seed = path.expanduser('~/data/moveit_data/')\n",
    "if PLAYBACK_MODE == 'bend':\n",
    "    moveit_file = file_seed + 'bend_dof_'\n",
    "else:\n",
    "    file_seed = file_seed + 'full_dof_'\n",
    "limb.set_joint_position_speed(0.75)"
   ]
  },
  {
   "cell_type": "code",
   "execution_count": null,
   "metadata": {},
   "outputs": [],
   "source": [
    "\n",
    "# class for the PPO model\n"
   ]
  },
  {
   "cell_type": "code",
   "execution_count": null,
   "metadata": {},
   "outputs": [],
   "source": [
    "# in a loop load all the plans and replay\n",
    "joint_angles = {}\n",
    "err = []\n",
    "xaxis = []\n",
    "# observations = []\n",
    "for file_iter in tqdmn(xrange(50), desc='Files read:'):\n",
    "    plan = pickle.load(open(moveit_file + str(file_iter) + '.pkl', 'rb'))\n",
    "    ctr = 0\n",
    "    err.append(dict())\n",
    "    err[file_iter] = {'s1':[], 'e1': [], 'w1':[]}\n",
    "    obs = []\n",
    "    for ctr in tqdmn(xrange(len(plan)), desc='Waypoints achieved:'):\n",
    "        if ctr == 0:\n",
    "            joint_names = copy.deepcopy(plan[ctr])\n",
    "#             print joint_names\n",
    "        else:\n",
    "            current_velocities = limb.joint_velocities()\n",
    "            current_torques = limb.joint_efforts()\n",
    "            for (i, joint) in enumerate(joint_names):\n",
    "                joint_angles[joint] = plan[ctr][i]\n",
    "            if ctr == 1:\n",
    "                limb.move_to_joint_positions(joint_angles)\n",
    "            else:\n",
    "                start_time = time.time()\n",
    "                while ((time.time() - start_time) < REACH_TIME):\n",
    "                    limb.set_joint_positions(joint_angles)\n",
    "            measured_angles = limb.joint_angles()\n",
    "            err[file_iter]['e1'].append(measured_angles['right_e1']-joint_angles['right_e1'])\n",
    "            err[file_iter]['s1'].append(measured_angles['right_s1']-joint_angles['right_s1'])\n",
    "            err[file_iter]['w1'].append(measured_angles['right_w1']-joint_angles['right_w1'])\n",
    "            # append all dicts to a list\n",
    "#     observations.append(obs)\n",
    "#     xaxis.append(xrange(len(plan)-1))\n",
    "#     plt.plot(xaxis, err['e1']*180/np.pi, 'b')\n",
    "#     plt.plot(xaxis, err['s1']*180/np.pi, 'r')\n",
    "#     plt.plot(xaxis, err['w1']*180/np.pi, 'g')\n",
    "#     plt.show()"
   ]
  },
  {
   "cell_type": "code",
   "execution_count": null,
   "metadata": {},
   "outputs": [],
   "source": [
    "# plot commanded trajectory and error\n",
    "joint_angles = {}\n",
    "for file_iter in tqdmn(xrange(2), desc='Files read:'):\n",
    "    plan = pickle.load(open(moveit_file + str(file_iter) + '.pkl', 'rb'))\n",
    "    s1 = [row[1] for row in plan[1:]]\n",
    "    e1 = [row[3] for row in plan[1:]]\n",
    "    w1 = [row[5] for row in plan[1:]]\n",
    "    plt.figure(file_iter)\n",
    "    plt.plot(np.array(s1)*180/np.pi, 'b')\n",
    "    plt.plot(np.array(e1)*180/np.pi, 'r')\n",
    "    plt.plot(np.array(w1)*180/np.pi, 'g')\n",
    "    plt.plot(np.array(err[file_iter]['e1'])*180./np.pi, 'b--')\n",
    "    plt.plot(np.array(err[file_iter]['s1'])*180./np.pi, 'r--')\n",
    "    plt.plot(np.array(err[file_iter]['w1'])*180./np.pi, 'g--')\n",
    "    plt.legend(['e1', 's1', 'w1'])\n",
    "    plt.show()\n",
    "\n",
    "plt.figure(0)\n",
    "plt.plot(np.array(err[0]['e1'])*180./np.pi, 'b')\n",
    "plt.plot(np.array(err[0]['s1'])*180./np.pi, 'r')\n",
    "plt.plot(np.array(err[0]['w1'])*180./np.pi, 'g')\n",
    "plt.legend(['e1', 's1', 'w1'])\n",
    "plt.show()\n",
    "plt.figure(1)\n",
    "plt.plot(np.array(err[1]['e1'])*180./np.pi, 'b')\n",
    "plt.plot(np.array(err[1]['s1'])*180./np.pi, 'r')\n",
    "plt.plot(np.array(err[1]['w1'])*180./np.pi, 'g')\n",
    "plt.legend(['e1', 's1', 'w1'])\n",
    "plt.show()"
   ]
  }
 ],
 "metadata": {
  "kernelspec": {
   "display_name": "Python 2",
   "language": "python",
   "name": "python2"
  },
  "language_info": {
   "codemirror_mode": {
    "name": "ipython",
    "version": 2
   },
   "file_extension": ".py",
   "mimetype": "text/x-python",
   "name": "python",
   "nbconvert_exporter": "python",
   "pygments_lexer": "ipython2",
   "version": "2.7.12"
  }
 },
 "nbformat": 4,
 "nbformat_minor": 2
}
