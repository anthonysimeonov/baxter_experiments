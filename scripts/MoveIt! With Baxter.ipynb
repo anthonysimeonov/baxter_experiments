{
 "cells": [
  {
   "cell_type": "code",
   "execution_count": 1,
   "metadata": {},
   "outputs": [],
   "source": [
    "import rospy\n",
    "import moveit_commander\n",
    "import baxter_interface\n",
    "import moveit_msgs.msg\n",
    "import geometry_msgs.msg\n",
    "import numpy as np\n",
    "import copy"
   ]
  },
  {
   "cell_type": "code",
   "execution_count": 2,
   "metadata": {},
   "outputs": [],
   "source": [
    "# defining baxter specific variables\n",
    "\n",
    "JOINT_LIMITS = {\n",
    "    's0': {\n",
    "        'min': -1.7,\n",
    "        'max': 1.7,\n",
    "    },\n",
    "    's1': {\n",
    "        'min': -2.140,\n",
    "        'max': 1.04,\n",
    "    },\n",
    "    'e0': {\n",
    "        'min':  -3.05,\n",
    "        'max': 3.05,\n",
    "    },\n",
    "    'e1': {\n",
    "        'min': -0.05,\n",
    "        'max': 2.61,\n",
    "    },\n",
    "    'w0': {\n",
    "        'min': -3.05,\n",
    "        'max': 3.05,\n",
    "    },\n",
    "    'w1': {\n",
    "        'min': -1.57,\n",
    "        'max': 2.09,\n",
    "    },\n",
    "    'w2': {\n",
    "        'min': -3.05,\n",
    "        'max': 3.05,\n",
    "    },\n",
    "}\n",
    "joint_names = ['s0', 's1', 'e0', 'e1', 'w0', 'w1', 'w2']"
   ]
  },
  {
   "cell_type": "code",
   "execution_count": 3,
   "metadata": {},
   "outputs": [],
   "source": [
    "moveit_commander.roscpp_initialize('test')\n",
    "rospy.init_node('test')"
   ]
  },
  {
   "cell_type": "code",
   "execution_count": 4,
   "metadata": {},
   "outputs": [],
   "source": [
    "# initialize moveit scene\n",
    "robot = moveit_commander.RobotCommander()\n",
    "scene = moveit_commander.PlanningSceneInterface()\n",
    "group = moveit_commander.MoveGroupCommander(\"right_arm\")\n",
    "limb = baxter_interface.Limb('right')"
   ]
  },
  {
   "cell_type": "code",
   "execution_count": 5,
   "metadata": {},
   "outputs": [],
   "source": [
    "# set goal tolerances\n",
    "group.set_goal_joint_tolerance(0.001)\n",
    "group.set_max_velocity_scaling_factor(0.5)"
   ]
  },
  {
   "cell_type": "code",
   "execution_count": 7,
   "metadata": {},
   "outputs": [
    {
     "name": "stdout",
     "output_type": "stream",
     "text": [
      "Calculated Plan was of length: 21\n",
      "No Plan found for Goal:\n",
      "{'right_s0': -1.6127579347811807, 'right_s1': -1.9054289272501095, 'right_w0': -0.8886474721729756, 'right_w1': 0.9256282519030934, 'right_w2': 0.0, 'right_e0': -2.1016043215568514, 'right_e1': 2.4408773373917896}\n",
      "No Plan found for Goal:\n",
      "{'right_s0': 1.140926447772374, 'right_s1': 0.7792104205686834, 'right_w0': 2.1752058586021548, 'right_w1': -0.2304716556402282, 'right_w2': 0.0, 'right_e0': -0.08290807139916856, 'right_e1': 1.3190300872220226}\n",
      "No Plan found for Goal:\n",
      "{'right_s0': -0.8305412410700932, 'right_s1': -1.8376000513716322, 'right_w0': -0.5032651315381433, 'right_w1': -1.248124306544016, 'right_w2': 0.0, 'right_e0': 2.8833587092343755, 'right_e1': 0.41808523476112774}\n",
      "No Plan found for Goal:\n",
      "{'right_s0': 1.2926999561647319, 'right_s1': -0.8728257731184237, 'right_w0': -1.4156414695904629, 'right_w1': -1.5304334136954838, 'right_w2': 0.0, 'right_e0': 1.7956302398997304, 'right_e1': 1.1768543744956348}\n",
      "No Plan found for Goal:\n",
      "{'right_s0': 0.4576112045137706, 'right_s1': -1.452540422715869, 'right_w0': 2.471804442803225, 'right_w1': 0.9379949715376392, 'right_w2': 0.0, 'right_e0': 2.9425100425694133, 'right_e1': 0.7591686961922415}\n",
      "Calculated Plan was of length: 17\n",
      "Calculated Plan was of length: 34\n",
      "Calculated Plan was of length: 63\n",
      "Calculated Plan was of length: 37\n",
      "No Plan found for Goal:\n",
      "{'right_s0': -0.30220098405377294, 'right_s1': -1.651048990380428, 'right_w0': 1.7958899077320005, 'right_w1': 1.1140516462673846, 'right_w2': 0.0, 'right_e0': -1.5295859065868362, 'right_e1': 2.4045809742364614}\n",
      "No Plan found for Goal:\n",
      "{'right_s0': -0.34489036869628453, 'right_s1': -1.7863685730846357, 'right_w0': 0.09719433955343915, 'right_w1': 1.2531246665201194, 'right_w2': 0.0, 'right_e0': -1.2136530548045423, 'right_e1': 1.4262855177951996}\n",
      "No Plan found for Goal:\n",
      "{'right_s0': -1.4000574497154965, 'right_s1': -1.659739916425663, 'right_w0': 2.460954797109406, 'right_w1': -1.3097379831391331, 'right_w2': 0.0, 'right_e0': -2.5988401757498765, 'right_e1': 2.3174516545156423}\n",
      "Calculated Plan was of length: 25\n",
      "Calculated Plan was of length: 33\n",
      "Calculated Plan was of length: 25\n",
      "No Plan found for Goal:\n",
      "{'right_s0': 1.3130001243870824, 'right_s1': -1.648823015476161, 'right_w0': -2.154638466977522, 'right_w1': 0.7582046354626548, 'right_w2': 0.0, 'right_e0': -2.661670251919348, 'right_e1': 2.39737645335295}\n",
      "Calculated Plan was of length: 37\n",
      "Calculated Plan was of length: 126\n",
      "No Plan found for Goal:\n",
      "{'right_s0': 1.5715886147875515, 'right_s1': -1.0648133195704292, 'right_w0': -0.6053167277908384, 'right_w1': 1.0887497864196451, 'right_w2': 0.0, 'right_e0': 1.2885694904537726, 'right_e1': 0.6896468585730424}\n"
     ]
    }
   ],
   "source": [
    "# in a loop choose 10 random points within limits, generate collision free plans, try and catch for validity of goal\n",
    "joint_goal = {}\n",
    "for i in range(20):\n",
    "    for j in range(len(joint_names)-1):\n",
    "        joint_goal['right_'+joint_names[j]] = np.random.uniform(JOINT_LIMITS[joint_names[j]]['min'], \n",
    "                                                            JOINT_LIMITS[joint_names[j]]['max'])\n",
    "    joint_goal['right_w2'] = 0.0\n",
    "    group.clear_pose_targets()\n",
    "    group.set_joint_value_target(joint_goal)\n",
    "    plan = group.plan()\n",
    "    intermediate_goal = copy.deepcopy(joint_goal)\n",
    "    if (len(plan.joint_trajectory.points)>0):\n",
    "#         print plan.joint_trajectory.joint_names\n",
    "#         for k in range(len(plan.joint_trajectory.points)):\n",
    "#             for l in range(len(joint_names)):\n",
    "#                 intermediate_goal['right_'+joint_names[l]] = plan.joint_trajectory.points[k].positions[l]\n",
    "#             limb.move_to_joint_positions(intermediate_goal)\n",
    "#             rospy.sleep(0.1)\n",
    "#             current_joint = limb.joint_angles()\n",
    "        group.go(wait=True)\n",
    "#         current_joint = group.get_current_joint_values()\n",
    "#         print current_joint\n",
    "#         print \"Goal vs Reached State:\"\n",
    "#             j = 0\n",
    "#             for key in joint_names:\n",
    "#                 print key + \": \" + str(joint_goal['right_' + key]) + \" - \" + str(current_joint['right_'+key])\n",
    "#                 j += 1\n",
    "        print \"Calculated Plan was of length: \" + str(len(plan.joint_trajectory.points))\n",
    "    else:\n",
    "        print \"No Plan found for Goal:\"\n",
    "        print joint_goal\n",
    "# TODO: look at -\n",
    "# http://wiki.ros.org/industrial_trajectory_filters, http://wiki.ros.org/industrial_trajectory_filters/Tutorials/filters_inside_moveit\n",
    "# https://groups.google.com/forum/#!topic/moveit-users/CCj9Tam2jiw"
   ]
  }
 ],
 "metadata": {
  "kernelspec": {
   "display_name": "Python 2",
   "language": "python",
   "name": "python2"
  },
  "language_info": {
   "codemirror_mode": {
    "name": "ipython",
    "version": 2
   },
   "file_extension": ".py",
   "mimetype": "text/x-python",
   "name": "python",
   "nbconvert_exporter": "python",
   "pygments_lexer": "ipython2",
   "version": "2.7.12"
  }
 },
 "nbformat": 4,
 "nbformat_minor": 2
}
