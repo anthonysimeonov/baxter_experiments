{
 "cells": [
  {
   "cell_type": "code",
   "execution_count": 5,
   "metadata": {},
   "outputs": [],
   "source": [
    "import rospy\n",
    "import moveit_commander\n",
    "import moveit_msgs.msg\n",
    "import geometry_msgs.msg\n",
    "import numpy as np"
   ]
  },
  {
   "cell_type": "code",
   "execution_count": 8,
   "metadata": {},
   "outputs": [],
   "source": [
    "# defining baxter specific variables\n",
    "\n",
    "JOINT_LIMITS = {\n",
    "    's0': {\n",
    "        'min': -1.7,\n",
    "        'max': 1.7,\n",
    "    },\n",
    "    's1': {\n",
    "        'min': -2.140,\n",
    "        'max': 1.04,\n",
    "    },\n",
    "    'e0': {\n",
    "        'min':  -3.05,\n",
    "        'max': 3.05,\n",
    "    },\n",
    "    'e1': {\n",
    "        'min': -0.05,\n",
    "        'max': 2.61,\n",
    "    },\n",
    "    'w0': {\n",
    "        'min': -3.05,\n",
    "        'max': 3.05,\n",
    "    },\n",
    "    'w1': {\n",
    "        'min': -1.57,\n",
    "        'max': 2.09,\n",
    "    },\n",
    "    'w2': {\n",
    "        'min': -3.05,\n",
    "        'max': 3.05,\n",
    "    },\n",
    "}\n",
    "joint_names = ['s0', 's1', 'e0', 'e1', 'w0', 'w1', 'w2']"
   ]
  },
  {
   "cell_type": "code",
   "execution_count": 3,
   "metadata": {},
   "outputs": [],
   "source": [
    "moveit_commander.roscpp_initialize('test')\n",
    "rospy.init_node('test')"
   ]
  },
  {
   "cell_type": "code",
   "execution_count": 4,
   "metadata": {},
   "outputs": [],
   "source": [
    "# initialize moveit scene\n",
    "robot = moveit_commander.RobotCommander()\n",
    "scene = moveit_commander.PlanningSceneInterface()\n",
    "group = moveit_commander.MoveGroupCommander(\"right_arm\")"
   ]
  },
  {
   "cell_type": "code",
   "execution_count": 6,
   "metadata": {},
   "outputs": [
    {
     "name": "stdout",
     "output_type": "stream",
     "text": [
      "0.0001\n"
     ]
    }
   ],
   "source": [
    "print group.get_goal_joint_tolerance()"
   ]
  },
  {
   "cell_type": "code",
   "execution_count": 30,
   "metadata": {},
   "outputs": [],
   "source": [
    "# set goal tolerances\n",
    "group.set_goal_joint_tolerance(0.001)\n",
    "group.set_max_velocity_scaling_factor(0.5)"
   ]
  },
  {
   "cell_type": "code",
   "execution_count": 37,
   "metadata": {},
   "outputs": [
    {
     "name": "stdout",
     "output_type": "stream",
     "text": [
      "Goal vs Reached State:\n",
      "s0: -1.14748633351 - -1.14588364855\n",
      "s1: -1.23997189388 - -1.23868948622\n",
      "e0: -1.34874683269 - -1.34798561735\n",
      "e1: 2.36022026796 - 2.36041293736\n",
      "w0: -3.00064449939 - -2.99701496433\n",
      "w1: 0.128452635102 - 0.127320405394\n",
      "w2: -0.73506263133 - -0.732859321412\n",
      "Calculated Plan was of length: 41\n",
      "Goal vs Reached State:\n",
      "s0: -1.61285557006 - -1.61988371201\n",
      "s1: 0.606331821769 - 0.604771925624\n",
      "e0: 2.46221792605 - 2.47162654448\n",
      "e1: 1.58121774115 - 1.58076720192\n",
      "w0: 0.757350368871 - 0.752801071655\n",
      "w1: -0.146141867835 - -0.150330117213\n",
      "w2: -1.58648168566 - -1.58421865869\n",
      "Calculated Plan was of length: 45\n",
      "No Plan found for Goal:\n",
      "{'right_s0': -1.3035073035124012, 'right_s1': 0.954868569221067, 'right_w0': -2.236554071360373, 'right_w1': 0.08802370343627897, 'right_w2': 2.2771064923147613, 'right_e0': -0.3073792869049825, 'right_e1': 1.7185235518057433}\n",
      "Goal vs Reached State:\n",
      "s0: 1.07469736307 - 1.08605839782\n",
      "s1: -0.0495787009161 - -0.053689327576\n",
      "e0: 2.79908933044 - 2.79683047151\n",
      "e1: 1.05868747169 - 1.05998072443\n",
      "w0: 0.483508777541 - 0.485121424169\n",
      "w1: -1.02916841843 - -1.02661664229\n",
      "w2: 1.05750316655 - 1.05269431569\n",
      "Calculated Plan was of length: 26\n",
      "Goal vs Reached State:\n",
      "s0: -0.240284824369 - 1.09526228255\n",
      "s1: 0.0269702754785 - -0.0556068035608\n",
      "e0: 0.644710577606 - 2.7987479475\n",
      "e1: 1.3873626231 - 1.05844674364\n",
      "w0: 1.33348190075 - 0.484354433775\n",
      "w1: 1.16123292401 - -1.0254661567\n",
      "w2: -3.03695507398 - 1.05422829647\n",
      "Calculated Plan was of length: 35\n",
      "No Plan found for Goal:\n",
      "{'right_s0': 1.0738023370353569, 'right_s1': 0.05366151203222458, 'right_w0': 2.435109623335496, 'right_w1': 1.5447746963934181, 'right_w2': -1.0778925887433697, 'right_e0': 2.192304279002931, 'right_e1': 2.529093753040656}\n",
      "Goal vs Reached State:\n",
      "s0: -0.853003627754 - -0.86478166917\n",
      "s1: -0.767012652538 - -0.777344764261\n",
      "e0: 0.956209341669 - 0.946082650928\n",
      "e1: 0.745452011263 - 0.742446701337\n",
      "w0: 2.84292485036 - 2.84323339035\n",
      "w1: -0.23094501177 - -0.231631098971\n",
      "w2: -2.21720986475 - -2.21353427692\n",
      "Calculated Plan was of length: 36\n",
      "Goal vs Reached State:\n",
      "s0: -0.583636750795 - -0.582145709003\n",
      "s1: -1.68716246426 - -1.69006333305\n",
      "e0: -0.553059051206 - -0.556451530805\n",
      "e1: -0.0412841879315 - -0.0410339860759\n",
      "w0: -2.65957610986 - -2.65647122942\n",
      "w1: -0.0345889516982 - -0.0287621397729\n",
      "w2: 0.465855793297 - 0.463262197941\n",
      "Calculated Plan was of length: 38\n",
      "Goal vs Reached State:\n",
      "s0: -1.06828186673 - -1.06726713317\n",
      "s1: -1.37804343561 - -1.37559727154\n",
      "e0: -2.33055607174 - -2.33165079759\n",
      "e1: 0.0728958874951 - 0.0732475826215\n",
      "w0: 1.17719675801 - 1.17694675951\n",
      "w1: 0.410931795023 - 0.413024327138\n",
      "w2: -2.1560596691 - -2.15332553099\n",
      "Calculated Plan was of length: 48\n",
      "Goal vs Reached State:\n",
      "s0: 1.26781970765 - 1.27665551072\n",
      "s1: -0.981896456134 - -0.977145761883\n",
      "e0: -2.50972377622 - -2.50882557859\n",
      "e1: 1.64586378804 - 1.64826235658\n",
      "w0: -0.97460631412 - -0.977145761883\n",
      "w1: -0.538498938266 - -0.537660266154\n",
      "w2: -1.23684722467 - -1.23677201023\n",
      "Calculated Plan was of length: 27\n",
      "Goal vs Reached State:\n",
      "s0: -1.51317480349 - -1.51365554245\n",
      "s1: -1.37911234001 - -1.37367979555\n",
      "e0: 2.56544745297 - 2.57517024766\n",
      "e1: 2.02490699121 - 2.02715561119\n",
      "w0: 1.11035681248 - 1.10676713846\n",
      "w1: 0.139565147206 - 0.140359242092\n",
      "w2: -2.44575939902 - -2.4443983855\n",
      "Calculated Plan was of length: 40\n",
      "No Plan found for Goal:\n",
      "{'right_s0': 1.4275792651341714, 'right_s1': 0.036193467960801584, 'right_w0': -0.627138128594634, 'right_w1': 0.5950137447611905, 'right_w2': 2.9061110901864478, 'right_e0': 2.3931203151719513, 'right_e1': 1.751103859688562}\n",
      "Goal vs Reached State:\n",
      "s0: -0.520906706323 - -0.515801039926\n",
      "s1: 0.179635250455 - 0.190980608092\n",
      "e0: -1.31693699893 - -1.33149532388\n",
      "e1: 2.39110987381 - 2.38994206753\n",
      "w0: -2.58785555471 - -2.58705859877\n",
      "w1: 0.3667764276 - 0.36968936988\n",
      "w2: 0.253652697565 - 0.253873820395\n",
      "Calculated Plan was of length: 49\n",
      "No Plan found for Goal:\n",
      "{'right_s0': -0.3326866697547348, 'right_s1': -2.098901331793578, 'right_w0': 2.2402565653036044, 'right_w1': -1.50023510183791, 'right_w2': -1.9583275879677908, 'right_e0': 2.6556341798796037, 'right_e1': 2.004505328028554}\n",
      "No Plan found for Goal:\n",
      "{'right_s0': 1.3986353651647712, 'right_s1': 0.7620125532803059, 'right_w0': 0.23019826913352093, 'right_w1': -0.6483973355696332, 'right_w2': -1.866485320782919, 'right_e0': 0.43415591207467985, 'right_e1': 1.394976940385402}\n"
     ]
    }
   ],
   "source": [
    "# in a loop choose 10 random points within limits, generate collision free plans, try and catch for validity of goal\n",
    "joint_goal = {}\n",
    "for i in range(15):\n",
    "    for j in range(len(joint_names)):\n",
    "        joint_goal['right_'+joint_names[j]] = np.random.uniform(JOINT_LIMITS[joint_names[j]]['min'], \n",
    "                                                            JOINT_LIMITS[joint_names[j]]['max'])\n",
    "    group.clear_pose_targets()\n",
    "    group.set_joint_value_target(joint_goal)\n",
    "    plan = group.plan()\n",
    "    if (len(plan.joint_trajectory.points)>0):\n",
    "        group.go(wait=True)\n",
    "        current_joint = group.get_current_joint_values()\n",
    "        print \"Goal vs Reached State:\"\n",
    "        j = 0\n",
    "        for key in joint_names:\n",
    "            print key + \": \" + str(joint_goal['right_' + key]) + \" - \" + str(current_joint[j])\n",
    "            j += 1\n",
    "        print \"Calculated Plan was of length: \" + str(len(plan.joint_trajectory.points))\n",
    "    else:\n",
    "        print \"No Plan found for Goal:\"\n",
    "        print joint_goal"
   ]
  }
 ],
 "metadata": {
  "kernelspec": {
   "display_name": "Python 2",
   "language": "python",
   "name": "python2"
  },
  "language_info": {
   "codemirror_mode": {
    "name": "ipython",
    "version": 2
   },
   "file_extension": ".py",
   "mimetype": "text/x-python",
   "name": "python",
   "nbconvert_exporter": "python",
   "pygments_lexer": "ipython2",
   "version": "2.7.12"
  }
 },
 "nbformat": 4,
 "nbformat_minor": 2
}
