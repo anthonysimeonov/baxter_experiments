{
 "cells": [
  {
   "cell_type": "code",
   "execution_count": 1,
   "metadata": {},
   "outputs": [],
   "source": [
    "import rospy\n",
    "import moveit_commander\n",
    "import moveit_msgs.msg\n",
    "import geometry_msgs.msg\n",
    "import numpy as np"
   ]
  },
  {
   "cell_type": "code",
   "execution_count": 2,
   "metadata": {},
   "outputs": [],
   "source": [
    "# defining baxter specific variables\n",
    "\n",
    "JOINT_LIMITS = {\n",
    "    's0': {\n",
    "        'min': -1.7,\n",
    "        'max': 1.7,\n",
    "    },\n",
    "    's1': {\n",
    "        'min': -2.140,\n",
    "        'max': 1.04,\n",
    "    },\n",
    "    'e0': {\n",
    "        'min':  -3.05,\n",
    "        'max': 3.05,\n",
    "    },\n",
    "    'e1': {\n",
    "        'min': -0.05,\n",
    "        'max': 2.61,\n",
    "    },\n",
    "    'w0': {\n",
    "        'min': -3.05,\n",
    "        'max': 3.05,\n",
    "    },\n",
    "    'w1': {\n",
    "        'min': -1.57,\n",
    "        'max': 2.09,\n",
    "    },\n",
    "    'w2': {\n",
    "        'min': -3.05,\n",
    "        'max': 3.05,\n",
    "    },\n",
    "}\n",
    "joint_names = ['s0', 's1', 'e0', 'e1', 'w0', 'w1', 'w2']"
   ]
  },
  {
   "cell_type": "code",
   "execution_count": 3,
   "metadata": {},
   "outputs": [],
   "source": [
    "moveit_commander.roscpp_initialize('test')\n",
    "rospy.init_node('test')"
   ]
  },
  {
   "cell_type": "code",
   "execution_count": 4,
   "metadata": {},
   "outputs": [],
   "source": [
    "# initialize moveit scene\n",
    "robot = moveit_commander.RobotCommander()\n",
    "scene = moveit_commander.PlanningSceneInterface()\n",
    "group = moveit_commander.MoveGroupCommander(\"right_arm\")"
   ]
  },
  {
   "cell_type": "code",
   "execution_count": 5,
   "metadata": {},
   "outputs": [
    {
     "name": "stdout",
     "output_type": "stream",
     "text": [
      "0.0001\n"
     ]
    }
   ],
   "source": [
    "print group.get_goal_joint_tolerance()"
   ]
  },
  {
   "cell_type": "code",
   "execution_count": 6,
   "metadata": {},
   "outputs": [],
   "source": [
    "# set goal tolerances\n",
    "group.set_goal_joint_tolerance(0.001)\n",
    "group.set_max_velocity_scaling_factor(0.5)"
   ]
  },
  {
   "cell_type": "code",
   "execution_count": 14,
   "metadata": {},
   "outputs": [
    {
     "name": "stdout",
     "output_type": "stream",
     "text": [
      "No Plan found for Goal:\n",
      "{'right_s0': -1.6974172647528918, 'right_s1': 0.5909388026404478, 'right_w0': 1.6999787870877938, 'right_w1': -1.3538636928054377, 'right_w2': 0.5297835426649113, 'right_e0': -0.48134332648935985, 'right_e1': 1.4212841131508893}\n",
      "No Plan found for Goal:\n",
      "{'right_s0': 1.6093919976497661, 'right_s1': -1.335153960246847, 'right_w0': 1.9168421844423893, 'right_w1': -1.1893437627723848, 'right_w2': 0.03207205556872905, 'right_e0': -0.134825591979296, 'right_e1': 0.24684733259562902}\n",
      "No Plan found for Goal:\n",
      "{'right_s0': 0.4991345595348686, 'right_s1': -1.6683531401789802, 'right_w0': 1.8299226201278866, 'right_w1': 0.4679234766150586, 'right_w2': 1.8957300447309882, 'right_e0': -2.1748889268543734, 'right_e1': 1.1817656744854759}\n",
      "No Plan found for Goal:\n",
      "{'right_s0': 1.1661323768411196, 'right_s1': -1.438837993760023, 'right_w0': 2.4017289691043056, 'right_w1': 1.0445410499852732, 'right_w2': -0.2796719089472903, 'right_e0': 0.46811522314983334, 'right_e1': 0.8012738698825668}\n",
      "No Plan found for Goal:\n",
      "{'right_s0': -1.3889406459022837, 'right_s1': -2.118000032183969, 'right_w0': -1.9347995594773355, 'right_w1': 1.3459430647461843, 'right_w2': 0.3656413259969309, 'right_e0': 2.8917465338710793, 'right_e1': 1.4322808204276858}\n",
      "No Plan found for Goal:\n",
      "{'right_s0': 1.3438961962796825, 'right_s1': 0.711411376296244, 'right_w0': -1.491260755982363, 'right_w1': -1.320340695818201, 'right_w2': -0.20647229476199502, 'right_e0': 0.4345125635222957, 'right_e1': 0.752533360909438}\n",
      "No Plan found for Goal:\n",
      "{'right_s0': 1.3896343495844128, 'right_s1': -1.2799599322108774, 'right_w0': 1.3455659630643124, 'right_w1': 1.78404974204849, 'right_w2': 2.1107671535499675, 'right_e0': -2.4789857881456037, 'right_e1': 1.969317863053978}\n",
      "No Plan found for Goal:\n",
      "{'right_s0': -1.5372619544073405, 'right_s1': 0.7400969718907131, 'right_w0': 0.9602581504315477, 'right_w1': 0.924701191045729, 'right_w2': 0.8900984641299208, 'right_e0': -1.2408973915069486, 'right_e1': 2.4525459616502125}\n",
      "No Plan found for Goal:\n",
      "{'right_s0': 1.3964658400463266, 'right_s1': 0.7206399410528022, 'right_w0': -0.9403486241146801, 'right_w1': 1.9736766906410386, 'right_w2': 1.005212670752159, 'right_e0': -2.757858345645899, 'right_e1': 0.998904402360288}\n"
     ]
    }
   ],
   "source": [
    "# in a loop choose 10 random points within limits, generate collision free plans, try and catch for validity of goal\n",
    "joint_goal = {}\n",
    "for i in range(20):\n",
    "    for j in range(len(joint_names)):\n",
    "        joint_goal['right_'+joint_names[j]] = np.random.uniform(JOINT_LIMITS[joint_names[j]]['min'], \n",
    "                                                            JOINT_LIMITS[joint_names[j]]['max'])\n",
    "    group.clear_pose_targets()\n",
    "    group.set_joint_value_target(joint_goal)\n",
    "    plan = group.plan()\n",
    "    if (len(plan.joint_trajectory.points)>0):\n",
    "        group.go(wait=True)\n",
    "#         current_joint = group.get_current_joint_values()\n",
    "#         print current_joint\n",
    "#         print \"Goal vs Reached State:\"\n",
    "#         j = 0\n",
    "#         for key in joint_names:\n",
    "#             print key + \": \" + str(joint_goal['right_' + key]) + \" - \" + str(current_joint[j])\n",
    "#             j += 1\n",
    "#         print \"Calculated Plan was of length: \" + str(len(plan.joint_trajectory.points))\n",
    "    else:\n",
    "        print \"No Plan found for Goal:\"\n",
    "        print joint_goal"
   ]
  },
  {
   "cell_type": "code",
   "execution_count": 9,
   "metadata": {},
   "outputs": [],
   "source": [
    "import baxter_interface"
   ]
  },
  {
   "cell_type": "code",
   "execution_count": 10,
   "metadata": {},
   "outputs": [],
   "source": [
    "limb = baxter_interface.Limb('right')"
   ]
  },
  {
   "cell_type": "code",
   "execution_count": 11,
   "metadata": {},
   "outputs": [
    {
     "name": "stdout",
     "output_type": "stream",
     "text": [
      "{'right_s0': -0.5499321124569209, 'right_s1': -1.4925633066125075, 'right_w0': -2.5602139349807556, 'right_w1': -0.40803888957752005, 'right_w2': -2.560597430177727, 'right_e0': -1.9101895761143115, 'right_e1': 2.265306128509785}\n"
     ]
    }
   ],
   "source": [
    "print limb.joint_angles()"
   ]
  }
 ],
 "metadata": {
  "kernelspec": {
   "display_name": "Python 2",
   "language": "python",
   "name": "python2"
  },
  "language_info": {
   "codemirror_mode": {
    "name": "ipython",
    "version": 2
   },
   "file_extension": ".py",
   "mimetype": "text/x-python",
   "name": "python",
   "nbconvert_exporter": "python",
   "pygments_lexer": "ipython2",
   "version": "2.7.12"
  }
 },
 "nbformat": 4,
 "nbformat_minor": 2
}
