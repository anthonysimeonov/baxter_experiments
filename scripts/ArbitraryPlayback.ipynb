{
 "cells": [
  {
   "cell_type": "code",
   "execution_count": 1,
   "metadata": {},
   "outputs": [],
   "source": [
    "import pickle\n",
    "import rospy\n",
    "import baxter_interface\n",
    "import os.path as path\n",
    "import copy\n",
    "from tqdm import tqdm_notebook as tqdmn\n",
    "import matplotlib.pyplot as plt\n",
    "import itertools"
   ]
  },
  {
   "cell_type": "code",
   "execution_count": 2,
   "metadata": {},
   "outputs": [],
   "source": [
    "# initialize ros node\n",
    "rospy.init_node('trajectory_player')\n",
    "limb = baxter_interface.Limb('right')"
   ]
  },
  {
   "cell_type": "code",
   "execution_count": 3,
   "metadata": {},
   "outputs": [],
   "source": [
    "# define relevant variables\n",
    "PLAYBACK_MODE = 'bend'\n",
    "file_seed = path.expanduser('~/data/moveit_data/')\n",
    "if PLAYBACK_MODE == 'bend':\n",
    "    file_seed = file_seed + 'bend_dof_'\n",
    "else:\n",
    "    file_seed = file_seed + 'full_dof_'"
   ]
  },
  {
   "cell_type": "code",
   "execution_count": 4,
   "metadata": {},
   "outputs": [
    {
     "data": {
      "application/vnd.jupyter.widget-view+json": {
       "model_id": "83463216f30c4788a9ac221ba4072609",
       "version_major": 2,
       "version_minor": 0
      },
      "text/plain": [
       "HBox(children=(IntProgress(value=0, description=u'Files read:', max=2), HTML(value=u'')))"
      ]
     },
     "metadata": {},
     "output_type": "display_data"
    },
    {
     "data": {
      "application/vnd.jupyter.widget-view+json": {
       "model_id": "cf52ad0daef74df398cf21b7acfe8d4e",
       "version_major": 2,
       "version_minor": 0
      },
      "text/plain": [
       "HBox(children=(IntProgress(value=0, description=u'Waypoints achieved:', max=5846), HTML(value=u'')))"
      ]
     },
     "metadata": {},
     "output_type": "display_data"
    },
    {
     "name": "stdout",
     "output_type": "stream",
     "text": [
      "['right_s0', 'right_s1', 'right_e0', 'right_e1', 'right_w0', 'right_w1', 'right_w2']\n",
      "\n"
     ]
    },
    {
     "ename": "NameError",
     "evalue": "name 'observations' is not defined",
     "output_type": "error",
     "traceback": [
      "\u001b[0;31m---------------------------------------------------------------------------\u001b[0m",
      "\u001b[0;31mNameError\u001b[0m                                 Traceback (most recent call last)",
      "\u001b[0;32m<ipython-input-4-03f569cf4f7b>\u001b[0m in \u001b[0;36m<module>\u001b[0;34m()\u001b[0m\n\u001b[1;32m     28\u001b[0m             \u001b[0merr\u001b[0m\u001b[0;34m[\u001b[0m\u001b[0;34m'w1'\u001b[0m\u001b[0;34m]\u001b[0m\u001b[0;34m.\u001b[0m\u001b[0mappend\u001b[0m\u001b[0;34m(\u001b[0m\u001b[0mabs\u001b[0m\u001b[0;34m(\u001b[0m\u001b[0mmeasured_angles\u001b[0m\u001b[0;34m[\u001b[0m\u001b[0;34m'right_w1'\u001b[0m\u001b[0;34m]\u001b[0m\u001b[0;34m-\u001b[0m\u001b[0mjoint_angles\u001b[0m\u001b[0;34m[\u001b[0m\u001b[0;34m'right_w1'\u001b[0m\u001b[0;34m]\u001b[0m\u001b[0;34m)\u001b[0m\u001b[0;34m)\u001b[0m\u001b[0;34m\u001b[0m\u001b[0m\n\u001b[1;32m     29\u001b[0m             \u001b[0;31m# append all dicts to a list\u001b[0m\u001b[0;34m\u001b[0m\u001b[0;34m\u001b[0m\u001b[0m\n\u001b[0;32m---> 30\u001b[0;31m     \u001b[0mobservations\u001b[0m\u001b[0;34m.\u001b[0m\u001b[0mappend\u001b[0m\u001b[0;34m(\u001b[0m\u001b[0mobs\u001b[0m\u001b[0;34m)\u001b[0m\u001b[0;34m\u001b[0m\u001b[0m\n\u001b[0m\u001b[1;32m     31\u001b[0m     \u001b[0mxaxis\u001b[0m \u001b[0;34m=\u001b[0m \u001b[0mxrange\u001b[0m\u001b[0;34m(\u001b[0m\u001b[0mlen\u001b[0m\u001b[0;34m(\u001b[0m\u001b[0mplan\u001b[0m\u001b[0;34m)\u001b[0m\u001b[0;34m-\u001b[0m\u001b[0;36m1\u001b[0m\u001b[0;34m)\u001b[0m\u001b[0;34m\u001b[0m\u001b[0m\n\u001b[1;32m     32\u001b[0m     \u001b[0mplt\u001b[0m\u001b[0;34m.\u001b[0m\u001b[0mplot\u001b[0m\u001b[0;34m(\u001b[0m\u001b[0mxaxis\u001b[0m\u001b[0;34m,\u001b[0m \u001b[0merr\u001b[0m\u001b[0;34m[\u001b[0m\u001b[0;34m'e1'\u001b[0m\u001b[0;34m]\u001b[0m\u001b[0;34m,\u001b[0m \u001b[0;34m'b'\u001b[0m\u001b[0;34m)\u001b[0m\u001b[0;34m\u001b[0m\u001b[0m\n",
      "\u001b[0;31mNameError\u001b[0m: name 'observations' is not defined"
     ]
    }
   ],
   "source": [
    "# in a loop load all the plans and replay\n",
    "joint_angles = {}\n",
    "# observations = []\n",
    "for file_iter in tqdmn(xrange(2), desc='Files read:'):\n",
    "    plan = pickle.load(open(file_seed + str(file_iter) + '.pkl', 'rb'))\n",
    "    ctr = 0\n",
    "    err = {'s1':[], 'e1': [], 'w1':[]}\n",
    "    obs = []\n",
    "    for ctr in tqdmn(xrange(len(plan)), desc='Waypoints achieved:'):\n",
    "        if ctr == 0:\n",
    "            joint_names = copy.deepcopy(plan[ctr])\n",
    "            print joint_names\n",
    "        else:\n",
    "            for (i, joint) in enumerate(joint_names):\n",
    "                joint_angles[joint] = plan[ctr][i]\n",
    "            if ctr == 1:\n",
    "                current_velocities = limb.joint_velocities()\n",
    "                current_torques = limb.joint_efforts()\n",
    "                limb.move_to_joint_positions(joint_angles)\n",
    "            else:\n",
    "                current_velocities = limb.joint_velocities()\n",
    "                current_torques = limb.joint_efforts()\n",
    "                limb.set_joint_positions(joint_angles)\n",
    "                rospy.sleep(0.1)\n",
    "            measured_angles = limb.joint_angles()\n",
    "            err['e1'].append(abs(measured_angles['right_e1']-joint_angles['right_e1']))\n",
    "            err['s1'].append(abs(measured_angles['right_s1']-joint_angles['right_s1']))\n",
    "            err['w1'].append(abs(measured_angles['right_w1']-joint_angles['right_w1']))\n",
    "            # append all dicts to a list\n",
    "#     observations.append(obs)\n"
   ]
  },
  {
   "cell_type": "code",
   "execution_count": 5,
   "metadata": {},
   "outputs": [
    {
     "data": {
      "image/png": "[encoded data removed]",
      "text/plain": [
       "<matplotlib.figure.Figure at 0x7f7524279210>"
      ]
     },
     "metadata": {},
     "output_type": "display_data"
    }
   ],
   "source": [
    "xaxis = xrange(len(plan)-1)\n",
    "plt.plot(xaxis, err['e1'], 'b')\n",
    "plt.plot(xaxis, err['s1'], 'r')\n",
    "plt.plot(xaxis, err['w1'], 'g')\n",
    "plt.show()"
   ]
  }
 ],
 "metadata": {
  "kernelspec": {
   "display_name": "Python 2",
   "language": "python",
   "name": "python2"
  },
  "language_info": {
   "codemirror_mode": {
    "name": "ipython",
    "version": 2
   },
   "file_extension": ".py",
   "mimetype": "text/x-python",
   "name": "python",
   "nbconvert_exporter": "python",
   "pygments_lexer": "ipython2",
   "version": "2.7.12"
  }
 },
 "nbformat": 4,
 "nbformat_minor": 2
}
