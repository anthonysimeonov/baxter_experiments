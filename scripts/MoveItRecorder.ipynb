{
 "cells": [
  {
   "cell_type": "code",
   "execution_count": 1,
   "metadata": {},
   "outputs": [],
   "source": [
    "import rospy\n",
    "import moveit_commander\n",
    "import baxter_interface\n",
    "import moveit_msgs.msg\n",
    "import geometry_msgs.msg\n",
    "import numpy as np\n",
    "import time\n",
    "import pickle\n",
    "import os.path as path\n",
    "from tqdm import tqdm_notebook as tqdmn"
   ]
  },
  {
   "cell_type": "code",
   "execution_count": 2,
   "metadata": {},
   "outputs": [],
   "source": [
    "# defining baxter specific variables\n",
    "\n",
    "JOINT_LIMITS = {\n",
    "    's0': {\n",
    "        'min': 0.00,\n",
    "        'max': 1.3,\n",
    "    },\n",
    "    's1': {\n",
    "        'min': -2.0,\n",
    "        'max': 0.9,\n",
    "    },\n",
    "    'e0': {\n",
    "        'min':  -3.05,\n",
    "        'max': 3.05,\n",
    "    },\n",
    "    'e1': {\n",
    "        'min': 0.0,\n",
    "        'max': 2.5,\n",
    "    },\n",
    "    'w0': {\n",
    "        'min': -3.05,\n",
    "        'max': 3.05,\n",
    "    },\n",
    "    'w1': {\n",
    "        'min': -1.4,\n",
    "        'max': 1.9,\n",
    "    },\n",
    "    'w2': {\n",
    "        'min': -3.05,\n",
    "        'max': 3.05,\n",
    "    },\n",
    "}\n",
    "joint_names = ['s0', 's1', 'e0', 'e1', 'w0', 'w1', 'w2']"
   ]
  },
  {
   "cell_type": "code",
   "execution_count": 3,
   "metadata": {},
   "outputs": [],
   "source": [
    "moveit_commander.roscpp_initialize('test')\n",
    "rospy.init_node('test')"
   ]
  },
  {
   "cell_type": "code",
   "execution_count": 4,
   "metadata": {},
   "outputs": [],
   "source": [
    "# initialize moveit scene\n",
    "robot = moveit_commander.RobotCommander()\n",
    "scene = moveit_commander.PlanningSceneInterface()\n",
    "group = moveit_commander.MoveGroupCommander(\"right_arm\")"
   ]
  },
  {
   "cell_type": "code",
   "execution_count": 5,
   "metadata": {},
   "outputs": [],
   "source": [
    "# set goal tolerances\n",
    "group.set_goal_joint_tolerance(0.001)\n",
    "group.set_max_velocity_scaling_factor(0.5)"
   ]
  },
  {
   "cell_type": "code",
   "execution_count": 6,
   "metadata": {},
   "outputs": [
    {
     "data": {
      "application/vnd.jupyter.widget-view+json": {
       "model_id": "895f819423b34c65aeb0ffa7bc44e49a",
       "version_major": 2,
       "version_minor": 0
      },
      "text/plain": [
       "HBox(children=(IntProgress(value=0, description=u'File Count', max=2), HTML(value=u'')))"
      ]
     },
     "metadata": {},
     "output_type": "display_data"
    },
    {
     "name": "stdout",
     "output_type": "stream",
     "text": [
      "\n"
     ]
    }
   ],
   "source": [
    "# in a loop choose 10 random points within limits, generate collision free plans, try and catch for validity of goal\n",
    "file_seed = path.expanduser('~/data/moveit_data/bend_dof_')\n",
    "for file_iter in tqdmn(xrange(2), desc='File Count'):\n",
    "    joint_goal = {}\n",
    "    plans = []\n",
    "    filename = file_seed + str(file_iter) + '.pkl'\n",
    "    waypoint_success = 0\n",
    "    while waypoint_success < 10:\n",
    "        for joint in range(len(joint_names)-1):\n",
    "            if joint_names[joint] == 's1' or joint_names[joint] == 'e1' or joint_names[joint] == 'w1':\n",
    "                joint_goal['right_' + joint_names[joint]] = np.random.uniform(JOINT_LIMITS[joint_names[joint]]['min'], \n",
    "                                                                        JOINT_LIMITS[joint_names[joint]]['max'])\n",
    "            else:\n",
    "                joint_goal['right_' + joint_names[joint]] = 0.0\n",
    "        group.clear_pose_targets()\n",
    "        group.set_joint_value_target(joint_goal)\n",
    "        plan = group.plan()\n",
    "        if waypoint_success == 0:\n",
    "            plans.append(plan.joint_trajectory.joint_names)\n",
    "        for point in plan.joint_trajectory.points:\n",
    "            plans.append(point.positions)\n",
    "        if (len(plan.joint_trajectory.points)>0):\n",
    "            start_time = time.time()\n",
    "            group.go(wait=True)\n",
    "#             print \"Calculated Plan was of length: \" + str(len(plan.joint_trajectory.points))\n",
    "#             print \"Total execution time: \" + str(time.time()-start_time) + \" seconds\"\n",
    "            waypoint_success += 1\n",
    "#         else:\n",
    "#             print \"No Plan found for Goal:\"\n",
    "#             print joint_goal\n",
    "#         print \"\"\n",
    "    with open(filename, 'w') as f:\n",
    "        pickle.dump(plans, f)\n",
    "# TODO: look at -\n",
    "# http://wiki.ros.org/industrial_trajectory_filters, http://wiki.ros.org/industrial_trajectory_filters/Tutorials/filters_inside_moveit\n",
    "# https://groups.google.com/forum/#!topic/moveit-users/CCj9Tam2jiw"
   ]
  },
  {
   "cell_type": "code",
   "execution_count": null,
   "metadata": {},
   "outputs": [],
   "source": []
  }
 ],
 "metadata": {
  "kernelspec": {
   "display_name": "Python 2",
   "language": "python",
   "name": "python2"
  },
  "language_info": {
   "codemirror_mode": {
    "name": "ipython",
    "version": 2
   },
   "file_extension": ".py",
   "mimetype": "text/x-python",
   "name": "python",
   "nbconvert_exporter": "python",
   "pygments_lexer": "ipython2",
   "version": "2.7.12"
  }
 },
 "nbformat": 4,
 "nbformat_minor": 2
}
